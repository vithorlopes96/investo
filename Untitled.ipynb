{
 "cells": [
  {
   "cell_type": "code",
   "execution_count": 94,
   "id": "f95ca467-bad1-422f-a6e3-53ef3c53e232",
   "metadata": {},
   "outputs": [],
   "source": [
    "import pandas as pd\n",
    "import requests\n",
    "from datetime import datetime\n",
    "import logging\n",
    "\n",
    "# Configuração de logging\n",
    "logging.basicConfig(level=logging.INFO, format='%(asctime)s - %(levelname)s - %(message)s')\n",
    "\n",
    "def fetch_issues(start_at=0, max_results=50):\n",
    "    params = {\n",
    "        'startAt': start_at,\n",
    "        'maxResults': max_results,\n",
    "        'jql': 'project=ITSM and KEY=ITSM-18451',\n",
    "        'fields': ''\n",
    "    }\n",
    "    try:\n",
    "        response = requests.get(config.JIRA_URL, headers={\n",
    "            'Accept': 'application/json',\n",
    "            'Content-Type': 'application/json'\n",
    "        }, auth=(config.JIRA_USER, config.JIRA_API_TOKEN), params=params)\n",
    "        response.raise_for_status()\n",
    "        return response.json()\n",
    "    except requests.RequestException as e:\n",
    "        logging.error(f\"Failed to fetch issues: {e}\")\n",
    "        return None\n",
    "\n",
    "def fetch_all_issues():\n",
    "    start_at = 0\n",
    "    max_results = 50\n",
    "    issues = []\n",
    "\n",
    "    while True:\n",
    "        data = pd.read_json('dados.json')\n",
    "        if not data:\n",
    "            break\n",
    "        issues.extend(data['issues'])\n",
    "        start_at += max_results\n",
    "        if start_at >= data['total']:\n",
    "            break\n",
    "    return issues\n",
    "\n",
    "def convert_date(date_str):\n",
    "    if date_str:\n",
    "        try:\n",
    "            return datetime.strptime(date_str, '%Y-%m-%dT%H:%M:%S.%f%z')\n",
    "        except ValueError as e:\n",
    "            logging.warning(f\"Date conversion error for '{date_str}': {e}\")\n",
    "    return None\n",
    "\n",
    "\n"
   ]
  },
  {
   "cell_type": "code",
   "execution_count": 70,
   "id": "76f6dca6-dc31-4197-ba62-130bdca60f68",
   "metadata": {},
   "outputs": [],
   "source": [
    "df = pd.read_json('dados.json')"
   ]
  },
  {
   "cell_type": "code",
   "execution_count": 71,
   "id": "7a3b0ac0-68c2-47cb-8672-8786292d7c51",
   "metadata": {},
   "outputs": [
    {
     "data": {
      "text/plain": [
       "0    {'expand': 'customfield_11813.cmdb.attributes,...\n",
       "1    {'expand': 'customfield_11813.cmdb.attributes,...\n",
       "Name: issues, dtype: object"
      ]
     },
     "execution_count": 71,
     "metadata": {},
     "output_type": "execute_result"
    }
   ],
   "source": [
    "df['issues']"
   ]
  },
  {
   "cell_type": "code",
   "execution_count": 72,
   "id": "cd6a4a97-8678-4235-9978-e62cf0a16643",
   "metadata": {},
   "outputs": [
    {
     "data": {
      "text/html": [
       "<div>\n",
       "<style scoped>\n",
       "    .dataframe tbody tr th:only-of-type {\n",
       "        vertical-align: middle;\n",
       "    }\n",
       "\n",
       "    .dataframe tbody tr th {\n",
       "        vertical-align: top;\n",
       "    }\n",
       "\n",
       "    .dataframe thead th {\n",
       "        text-align: right;\n",
       "    }\n",
       "</style>\n",
       "<table border=\"1\" class=\"dataframe\">\n",
       "  <thead>\n",
       "    <tr style=\"text-align: right;\">\n",
       "      <th></th>\n",
       "      <th>issues</th>\n",
       "    </tr>\n",
       "  </thead>\n",
       "  <tbody>\n",
       "    <tr>\n",
       "      <th>0</th>\n",
       "      <td>{'expand': 'customfield_11813.cmdb.attributes,...</td>\n",
       "    </tr>\n",
       "    <tr>\n",
       "      <th>1</th>\n",
       "      <td>{'expand': 'customfield_11813.cmdb.attributes,...</td>\n",
       "    </tr>\n",
       "  </tbody>\n",
       "</table>\n",
       "</div>"
      ],
      "text/plain": [
       "                                              issues\n",
       "0  {'expand': 'customfield_11813.cmdb.attributes,...\n",
       "1  {'expand': 'customfield_11813.cmdb.attributes,..."
      ]
     },
     "execution_count": 72,
     "metadata": {},
     "output_type": "execute_result"
    }
   ],
   "source": []
  },
  {
   "cell_type": "code",
   "execution_count": 73,
   "id": "68fc62aa-64a4-4267-9624-58600f7c6bfb",
   "metadata": {},
   "outputs": [],
   "source": [
    "z = df.get('issues')"
   ]
  },
  {
   "cell_type": "code",
   "execution_count": 74,
   "id": "423e7e71-2fcc-4b8a-9617-a5e86ab23e1d",
   "metadata": {},
   "outputs": [],
   "source": [
    "issues = []"
   ]
  },
  {
   "cell_type": "code",
   "execution_count": 75,
   "id": "736ff4b3-3cf9-4eb0-be23-d5b7df23254b",
   "metadata": {},
   "outputs": [],
   "source": [
    "for x in z:\n",
    "    issues.append(x)"
   ]
  },
  {
   "cell_type": "code",
   "execution_count": 76,
   "id": "c59b3be0-a5f9-450b-9b5f-d12a71c7aedf",
   "metadata": {},
   "outputs": [],
   "source": [
    "df = pd.DataFrame.from_dict(issues)"
   ]
  },
  {
   "cell_type": "code",
   "execution_count": 79,
   "id": "ac362bfe-0306-4da2-bd57-ca1f9b01bef6",
   "metadata": {},
   "outputs": [],
   "source": [
    "df = pd.json_normalize(issues, sep='.')"
   ]
  },
  {
   "cell_type": "code",
   "execution_count": 87,
   "id": "65e07557-1822-4c11-8dbb-8b305e9ae39f",
   "metadata": {},
   "outputs": [
    {
     "data": {
      "text/plain": [
       "0    Diego Martins da Silva\n",
       "1                       NaN\n",
       "Name: fields.assignee.displayName, dtype: object"
      ]
     },
     "execution_count": 87,
     "metadata": {},
     "output_type": "execute_result"
    }
   ],
   "source": [
    "df['fields.assignee.displayName']"
   ]
  },
  {
   "cell_type": "code",
   "execution_count": 93,
   "id": "c399566a-9ce8-496a-acfb-8917ed9c150e",
   "metadata": {},
   "outputs": [
    {
     "name": "stderr",
     "output_type": "stream",
     "text": [
      "2024-08-23 16:31:36,850 - INFO - Data fetched successfully.\n"
     ]
    },
    {
     "name": "stdout",
     "output_type": "stream",
     "text": [
      "       id         key                fields.created  \\\n",
      "0  906342  ITSM-18451  2024-08-13T08:39:32.580-0300   \n",
      "1  760010    ITSM-990  2024-01-06T03:56:24.000-0300   \n",
      "\n",
      "                                      fields.summary    fields.status.name  \\\n",
      "0             Acesso a VPN ciandt.gpcloudservice.com               Fechada   \n",
      "1  [ ssis_dimensoes_orquestrador ] Monitoramento ...  Waiting for approval   \n",
      "\n",
      "  fields.customfield_11094      fields.creator.displayName  \\\n",
      "0                     None          Iris Maria Alves de Sá   \n",
      "1                   247771  Gerusa Fernandes Lobo Nogueira   \n",
      "\n",
      "          fields.resolutiondate fields.assignee.displayName  \\\n",
      "0  2024-08-20T09:01:38.715-0300      Diego Martins da Silva   \n",
      "1                          None                         NaN   \n",
      "\n",
      "  fields.customfield_11081.value  \n",
      "0                      Tech Stop  \n",
      "1                     Monitoring  \n"
     ]
    }
   ],
   "source": [
    "df = pd.json_normalize(issues, sep='.')\n",
    "try:\n",
    "    # Extraindo e tratando a coluna 'fields.assignee.displayName'\n",
    "    # df['fields.assignee.displayName.new'] = df['fields.assignee'].apply(\n",
    "    #     lambda x: x['displayName'] if isinstance(x, dict) and 'displayName' in x else None\n",
    "    # )\n",
    "\n",
    "    # Agora você pode incluir diretamente a nova coluna ao invés de 'fields.assignee'\n",
    "    df = df[['id', 'key', 'fields.created', 'fields.summary', 'fields.status.name',\n",
    "              'fields.customfield_11094', 'fields.creator.displayName',\n",
    "              'fields.resolutiondate',\n",
    "              'fields.assignee.displayName',  # Use a nova coluna aqui\n",
    "              'fields.customfield_11081.value']]\n",
    "\n",
    "    logging.info(\"Data fetched successfully.\")\n",
    "    print(df.head())\n",
    "\n",
    "except KeyError as e:\n",
    "        logging.error(f\"KeyError: {e}\")\n"
   ]
  },
  {
   "cell_type": "code",
   "execution_count": 99,
   "id": "a6854a69-5a40-4395-bbd5-cff75b36d0a0",
   "metadata": {},
   "outputs": [
    {
     "ename": "ValueError",
     "evalue": "The truth value of a Series is ambiguous. Use a.empty, a.bool(), a.item(), a.any() or a.all().",
     "output_type": "error",
     "traceback": [
      "\u001b[0;31m---------------------------------------------------------------------------\u001b[0m",
      "\u001b[0;31mValueError\u001b[0m                                Traceback (most recent call last)",
      "\u001b[0;32m/tmp/ipykernel_76394/1666553510.py\u001b[0m in \u001b[0;36m?\u001b[0;34m()\u001b[0m\n\u001b[1;32m     19\u001b[0m \u001b[0;34m\u001b[0m\u001b[0m\n\u001b[1;32m     20\u001b[0m         \u001b[0mstart_at\u001b[0m \u001b[0;34m+=\u001b[0m \u001b[0mmax_results\u001b[0m\u001b[0;34m\u001b[0m\u001b[0;34m\u001b[0m\u001b[0m\n\u001b[1;32m     21\u001b[0m \u001b[0;34m\u001b[0m\u001b[0m\n\u001b[1;32m     22\u001b[0m         \u001b[0;31m# Check if we've reached the total number of results\u001b[0m\u001b[0;34m\u001b[0m\u001b[0;34m\u001b[0m\u001b[0m\n\u001b[0;32m---> 23\u001b[0;31m         \u001b[0;32mif\u001b[0m \u001b[0mstart_at\u001b[0m \u001b[0;34m>=\u001b[0m \u001b[0mdata\u001b[0m\u001b[0;34m[\u001b[0m\u001b[0;34m'total'\u001b[0m\u001b[0;34m]\u001b[0m\u001b[0;34m:\u001b[0m\u001b[0;34m\u001b[0m\u001b[0;34m\u001b[0m\u001b[0m\n\u001b[0m\u001b[1;32m     24\u001b[0m             \u001b[0;32mbreak\u001b[0m\u001b[0;34m\u001b[0m\u001b[0;34m\u001b[0m\u001b[0m\n\u001b[1;32m     25\u001b[0m     \u001b[0;32melse\u001b[0m\u001b[0;34m:\u001b[0m\u001b[0;34m\u001b[0m\u001b[0;34m\u001b[0m\u001b[0m\n\u001b[1;32m     26\u001b[0m         \u001b[0mprint\u001b[0m\u001b[0;34m(\u001b[0m\u001b[0;34m\"Expected columns are missing in the DataFrame.\"\u001b[0m\u001b[0;34m)\u001b[0m\u001b[0;34m\u001b[0m\u001b[0;34m\u001b[0m\u001b[0m\n",
      "\u001b[0;32m/usr/local/lib/python3.10/dist-packages/pandas/core/generic.py\u001b[0m in \u001b[0;36m?\u001b[0;34m(self)\u001b[0m\n\u001b[1;32m   1575\u001b[0m     \u001b[0;34m@\u001b[0m\u001b[0mfinal\u001b[0m\u001b[0;34m\u001b[0m\u001b[0;34m\u001b[0m\u001b[0m\n\u001b[1;32m   1576\u001b[0m     \u001b[0;32mdef\u001b[0m \u001b[0m__nonzero__\u001b[0m\u001b[0;34m(\u001b[0m\u001b[0mself\u001b[0m\u001b[0;34m)\u001b[0m \u001b[0;34m->\u001b[0m \u001b[0mNoReturn\u001b[0m\u001b[0;34m:\u001b[0m\u001b[0;34m\u001b[0m\u001b[0;34m\u001b[0m\u001b[0m\n\u001b[0;32m-> 1577\u001b[0;31m         raise ValueError(\n\u001b[0m\u001b[1;32m   1578\u001b[0m             \u001b[0;34mf\"The truth value of a {type(self).__name__} is ambiguous. \"\u001b[0m\u001b[0;34m\u001b[0m\u001b[0;34m\u001b[0m\u001b[0m\n\u001b[1;32m   1579\u001b[0m             \u001b[0;34m\"Use a.empty, a.bool(), a.item(), a.any() or a.all().\"\u001b[0m\u001b[0;34m\u001b[0m\u001b[0;34m\u001b[0m\u001b[0m\n\u001b[1;32m   1580\u001b[0m         )\n",
      "\u001b[0;31mValueError\u001b[0m: The truth value of a Series is ambiguous. Use a.empty, a.bool(), a.item(), a.any() or a.all()."
     ]
    }
   ],
   "source": []
  },
  {
   "cell_type": "code",
   "execution_count": null,
   "id": "50051bfb-d236-4fb2-b425-2768af1b780a",
   "metadata": {},
   "outputs": [],
   "source": []
  },
  {
   "cell_type": "code",
   "execution_count": null,
   "id": "f01f1971-baee-45b7-8559-d3bdacedda2a",
   "metadata": {},
   "outputs": [],
   "source": []
  },
  {
   "cell_type": "code",
   "execution_count": 78,
   "id": "90b5ebfb-061b-4782-8ccb-70adb642da8d",
   "metadata": {
    "scrolled": true
   },
   "outputs": [
    {
     "data": {
      "text/html": [
       "<div>\n",
       "<style scoped>\n",
       "    .dataframe tbody tr th:only-of-type {\n",
       "        vertical-align: middle;\n",
       "    }\n",
       "\n",
       "    .dataframe tbody tr th {\n",
       "        vertical-align: top;\n",
       "    }\n",
       "\n",
       "    .dataframe thead th {\n",
       "        text-align: right;\n",
       "    }\n",
       "</style>\n",
       "<table border=\"1\" class=\"dataframe\">\n",
       "  <thead>\n",
       "    <tr style=\"text-align: right;\">\n",
       "      <th></th>\n",
       "      <th>expand</th>\n",
       "      <th>id</th>\n",
       "      <th>self</th>\n",
       "      <th>key</th>\n",
       "      <th>fields.customfield_11960</th>\n",
       "      <th>fields.resolution.self</th>\n",
       "      <th>fields.resolution.id</th>\n",
       "      <th>fields.resolution.description</th>\n",
       "      <th>fields.resolution.name</th>\n",
       "      <th>fields.customfield_11720</th>\n",
       "      <th>...</th>\n",
       "      <th>fields.customfield_11059</th>\n",
       "      <th>fields.resolution</th>\n",
       "      <th>fields.assignee</th>\n",
       "      <th>fields.customfield_11653</th>\n",
       "      <th>fields.customfield_11843</th>\n",
       "      <th>fields.customfield_11250</th>\n",
       "      <th>fields.customfield_11252</th>\n",
       "      <th>fields.customfield_11249</th>\n",
       "      <th>fields.customfield_11105</th>\n",
       "      <th>fields.customfield_11295</th>\n",
       "    </tr>\n",
       "  </thead>\n",
       "  <tbody>\n",
       "    <tr>\n",
       "      <th>0</th>\n",
       "      <td>customfield_11813.cmdb.attributes,customfield_...</td>\n",
       "      <td>906342</td>\n",
       "      <td>https://ciandtjira.atlassian.net/rest/api/3/is...</td>\n",
       "      <td>ITSM-18451</td>\n",
       "      <td>None</td>\n",
       "      <td>https://ciandtjira.atlassian.net/rest/api/3/re...</td>\n",
       "      <td>10000</td>\n",
       "      <td>O trabalho foi concluído neste item.</td>\n",
       "      <td>Itens concluídos</td>\n",
       "      <td>None</td>\n",
       "      <td>...</td>\n",
       "      <td>[]</td>\n",
       "      <td>NaN</td>\n",
       "      <td>NaN</td>\n",
       "      <td>NaN</td>\n",
       "      <td>NaN</td>\n",
       "      <td>NaN</td>\n",
       "      <td>NaN</td>\n",
       "      <td>NaN</td>\n",
       "      <td>NaN</td>\n",
       "      <td>NaN</td>\n",
       "    </tr>\n",
       "    <tr>\n",
       "      <th>1</th>\n",
       "      <td>customfield_11813.cmdb.attributes,customfield_...</td>\n",
       "      <td>760010</td>\n",
       "      <td>https://ciandtjira.atlassian.net/rest/api/3/is...</td>\n",
       "      <td>ITSM-990</td>\n",
       "      <td>None</td>\n",
       "      <td>NaN</td>\n",
       "      <td>NaN</td>\n",
       "      <td>NaN</td>\n",
       "      <td>NaN</td>\n",
       "      <td>None</td>\n",
       "      <td>...</td>\n",
       "      <td>[]</td>\n",
       "      <td>NaN</td>\n",
       "      <td>NaN</td>\n",
       "      <td>NaN</td>\n",
       "      <td>NaN</td>\n",
       "      <td>NaN</td>\n",
       "      <td>NaN</td>\n",
       "      <td>NaN</td>\n",
       "      <td>NaN</td>\n",
       "      <td>NaN</td>\n",
       "    </tr>\n",
       "  </tbody>\n",
       "</table>\n",
       "<p>2 rows × 756 columns</p>\n",
       "</div>"
      ],
      "text/plain": [
       "                                              expand      id  \\\n",
       "0  customfield_11813.cmdb.attributes,customfield_...  906342   \n",
       "1  customfield_11813.cmdb.attributes,customfield_...  760010   \n",
       "\n",
       "                                                self         key  \\\n",
       "0  https://ciandtjira.atlassian.net/rest/api/3/is...  ITSM-18451   \n",
       "1  https://ciandtjira.atlassian.net/rest/api/3/is...    ITSM-990   \n",
       "\n",
       "  fields.customfield_11960                             fields.resolution.self  \\\n",
       "0                     None  https://ciandtjira.atlassian.net/rest/api/3/re...   \n",
       "1                     None                                                NaN   \n",
       "\n",
       "  fields.resolution.id         fields.resolution.description  \\\n",
       "0                10000  O trabalho foi concluído neste item.   \n",
       "1                  NaN                                   NaN   \n",
       "\n",
       "  fields.resolution.name fields.customfield_11720  ...  \\\n",
       "0       Itens concluídos                     None  ...   \n",
       "1                    NaN                     None  ...   \n",
       "\n",
       "  fields.customfield_11059 fields.resolution fields.assignee  \\\n",
       "0                       []               NaN             NaN   \n",
       "1                       []               NaN             NaN   \n",
       "\n",
       "  fields.customfield_11653 fields.customfield_11843 fields.customfield_11250  \\\n",
       "0                      NaN                      NaN                      NaN   \n",
       "1                      NaN                      NaN                      NaN   \n",
       "\n",
       "  fields.customfield_11252 fields.customfield_11249 fields.customfield_11105  \\\n",
       "0                      NaN                      NaN                      NaN   \n",
       "1                      NaN                      NaN                      NaN   \n",
       "\n",
       "  fields.customfield_11295  \n",
       "0                      NaN  \n",
       "1                      NaN  \n",
       "\n",
       "[2 rows x 756 columns]"
      ]
     },
     "execution_count": 78,
     "metadata": {},
     "output_type": "execute_result"
    }
   ],
   "source": [
    "DataFrame(pd.json_normalize(issues, sep='.')"
   ]
  },
  {
   "cell_type": "code",
   "execution_count": 43,
   "id": "474271b8-99ae-4e6e-a57a-536ccde9d47e",
   "metadata": {},
   "outputs": [],
   "source": [
    "fields = []"
   ]
  },
  {
   "cell_type": "code",
   "execution_count": 45,
   "id": "87b28d8b-9c63-47f9-a6ee-6ae5ef4da303",
   "metadata": {},
   "outputs": [],
   "source": [
    "df1 = df.get('fields')"
   ]
  },
  {
   "cell_type": "code",
   "execution_count": 46,
   "id": "1c3add46-95f7-4aa6-a39d-2704a6dd898d",
   "metadata": {},
   "outputs": [],
   "source": [
    "for x in df1:\n",
    "    fields.append(x)"
   ]
  },
  {
   "cell_type": "code",
   "execution_count": 48,
   "id": "00312e77-31a3-4c1c-9c0e-e66629b59d49",
   "metadata": {},
   "outputs": [],
   "source": [
    "df1_fields = pd.DataFrame.from_dict(fields)"
   ]
  },
  {
   "cell_type": "code",
   "execution_count": null,
   "id": "83bd13b9-d458-4066-bdcb-87ad31248d88",
   "metadata": {},
   "outputs": [],
   "source": [
    "\n"
   ]
  },
  {
   "cell_type": "code",
   "execution_count": 51,
   "id": "353480f3-3f76-4afa-84a9-3e8b2716d4e5",
   "metadata": {},
   "outputs": [],
   "source": [
    "df2 = df1_fields['assignee']"
   ]
  },
  {
   "cell_type": "code",
   "execution_count": 58,
   "id": "e178845e-41d2-4256-bbdd-d2663c9e5338",
   "metadata": {},
   "outputs": [],
   "source": [
    "assignee = []"
   ]
  },
  {
   "cell_type": "code",
   "execution_count": 59,
   "id": "918104fb-8488-4622-87b0-bf1251618052",
   "metadata": {},
   "outputs": [],
   "source": [
    "for x in df2:\n",
    "    assignee.append(x)"
   ]
  },
  {
   "cell_type": "code",
   "execution_count": 65,
   "id": "2ca4270a-6114-4ce8-b0ad-1079a12500fd",
   "metadata": {},
   "outputs": [
    {
     "data": {
      "text/plain": [
       "[{'self': 'https://ciandtjira.atlassian.net/rest/api/3/user?accountId=557058%3A631da733-ee73-4d83-be7f-c1a2520255b2',\n",
       "  'accountId': '557058:631da733-ee73-4d83-be7f-c1a2520255b2',\n",
       "  'emailAddress': 'diegoms@ciandt.com',\n",
       "  'avatarUrls': {'48x48': 'https://avatar-management--avatars.us-west-2.prod.public.atl-paas.net/557058:631da733-ee73-4d83-be7f-c1a2520255b2/5d39fda0-481b-4837-bc57-c47decae0397/48',\n",
       "   '24x24': 'https://avatar-management--avatars.us-west-2.prod.public.atl-paas.net/557058:631da733-ee73-4d83-be7f-c1a2520255b2/5d39fda0-481b-4837-bc57-c47decae0397/24',\n",
       "   '16x16': 'https://avatar-management--avatars.us-west-2.prod.public.atl-paas.net/557058:631da733-ee73-4d83-be7f-c1a2520255b2/5d39fda0-481b-4837-bc57-c47decae0397/16',\n",
       "   '32x32': 'https://avatar-management--avatars.us-west-2.prod.public.atl-paas.net/557058:631da733-ee73-4d83-be7f-c1a2520255b2/5d39fda0-481b-4837-bc57-c47decae0397/32'},\n",
       "  'displayName': 'Diego Martins da Silva',\n",
       "  'active': True,\n",
       "  'timeZone': 'America/Sao_Paulo',\n",
       "  'accountType': 'atlassian'},\n",
       " None]"
      ]
     },
     "execution_count": 65,
     "metadata": {},
     "output_type": "execute_result"
    }
   ],
   "source": [
    "assignee"
   ]
  },
  {
   "cell_type": "code",
   "execution_count": 61,
   "id": "ebcb78a8-2ebf-4e79-b472-56af9c5f015a",
   "metadata": {},
   "outputs": [
    {
     "data": {
      "text/plain": [
       "list"
      ]
     },
     "execution_count": 61,
     "metadata": {},
     "output_type": "execute_result"
    }
   ],
   "source": [
    "type(assignee)"
   ]
  },
  {
   "cell_type": "code",
   "execution_count": 63,
   "id": "48d36cec-841e-4f34-b6bd-2ec11efc9549",
   "metadata": {},
   "outputs": [],
   "source": [
    "df1_fields['fields.assignee.displayName'] = df1_fields['assignee'].apply(\n",
    "                lambda x: x['displayName'] if isinstance(x, dict) and 'displayName' in x else None\n",
    "            )"
   ]
  },
  {
   "cell_type": "code",
   "execution_count": 64,
   "id": "f28992dd-a5c9-4608-9f7f-ae033153dacc",
   "metadata": {},
   "outputs": [
    {
     "data": {
      "text/html": [
       "<div>\n",
       "<style scoped>\n",
       "    .dataframe tbody tr th:only-of-type {\n",
       "        vertical-align: middle;\n",
       "    }\n",
       "\n",
       "    .dataframe tbody tr th {\n",
       "        vertical-align: top;\n",
       "    }\n",
       "\n",
       "    .dataframe thead th {\n",
       "        text-align: right;\n",
       "    }\n",
       "</style>\n",
       "<table border=\"1\" class=\"dataframe\">\n",
       "  <thead>\n",
       "    <tr style=\"text-align: right;\">\n",
       "      <th></th>\n",
       "      <th>customfield_11960</th>\n",
       "      <th>resolution</th>\n",
       "      <th>customfield_11720</th>\n",
       "      <th>customfield_11962</th>\n",
       "      <th>customfield_11841</th>\n",
       "      <th>customfield_11961</th>\n",
       "      <th>customfield_11832</th>\n",
       "      <th>customfield_11711</th>\n",
       "      <th>customfield_11710</th>\n",
       "      <th>customfield_11952</th>\n",
       "      <th>...</th>\n",
       "      <th>customfield_11054</th>\n",
       "      <th>customfield_11296</th>\n",
       "      <th>customfield_11055</th>\n",
       "      <th>customfield_11176</th>\n",
       "      <th>customfield_11056</th>\n",
       "      <th>customfield_11298</th>\n",
       "      <th>customfield_11057</th>\n",
       "      <th>customfield_11058</th>\n",
       "      <th>customfield_11059</th>\n",
       "      <th>fields.assignee.displayName</th>\n",
       "    </tr>\n",
       "  </thead>\n",
       "  <tbody>\n",
       "    <tr>\n",
       "      <th>0</th>\n",
       "      <td>None</td>\n",
       "      <td>{'self': 'https://ciandtjira.atlassian.net/res...</td>\n",
       "      <td>None</td>\n",
       "      <td>None</td>\n",
       "      <td>[]</td>\n",
       "      <td>None</td>\n",
       "      <td>None</td>\n",
       "      <td>None</td>\n",
       "      <td>None</td>\n",
       "      <td>None</td>\n",
       "      <td>...</td>\n",
       "      <td>None</td>\n",
       "      <td>None</td>\n",
       "      <td>None</td>\n",
       "      <td>None</td>\n",
       "      <td>None</td>\n",
       "      <td>None</td>\n",
       "      <td>None</td>\n",
       "      <td>None</td>\n",
       "      <td>[]</td>\n",
       "      <td>Diego Martins da Silva</td>\n",
       "    </tr>\n",
       "    <tr>\n",
       "      <th>1</th>\n",
       "      <td>None</td>\n",
       "      <td>None</td>\n",
       "      <td>None</td>\n",
       "      <td>None</td>\n",
       "      <td>[]</td>\n",
       "      <td>None</td>\n",
       "      <td>None</td>\n",
       "      <td>None</td>\n",
       "      <td>None</td>\n",
       "      <td>None</td>\n",
       "      <td>...</td>\n",
       "      <td>None</td>\n",
       "      <td>None</td>\n",
       "      <td>None</td>\n",
       "      <td>None</td>\n",
       "      <td>None</td>\n",
       "      <td>None</td>\n",
       "      <td>None</td>\n",
       "      <td>None</td>\n",
       "      <td>[]</td>\n",
       "      <td>None</td>\n",
       "    </tr>\n",
       "  </tbody>\n",
       "</table>\n",
       "<p>2 rows × 604 columns</p>\n",
       "</div>"
      ],
      "text/plain": [
       "  customfield_11960                                         resolution  \\\n",
       "0              None  {'self': 'https://ciandtjira.atlassian.net/res...   \n",
       "1              None                                               None   \n",
       "\n",
       "  customfield_11720 customfield_11962 customfield_11841 customfield_11961  \\\n",
       "0              None              None                []              None   \n",
       "1              None              None                []              None   \n",
       "\n",
       "  customfield_11832 customfield_11711 customfield_11710 customfield_11952  \\\n",
       "0              None              None              None              None   \n",
       "1              None              None              None              None   \n",
       "\n",
       "   ... customfield_11054 customfield_11296 customfield_11055  \\\n",
       "0  ...              None              None              None   \n",
       "1  ...              None              None              None   \n",
       "\n",
       "  customfield_11176 customfield_11056 customfield_11298 customfield_11057  \\\n",
       "0              None              None              None              None   \n",
       "1              None              None              None              None   \n",
       "\n",
       "  customfield_11058 customfield_11059 fields.assignee.displayName  \n",
       "0              None                []      Diego Martins da Silva  \n",
       "1              None                []                        None  \n",
       "\n",
       "[2 rows x 604 columns]"
      ]
     },
     "execution_count": 64,
     "metadata": {},
     "output_type": "execute_result"
    }
   ],
   "source": [
    "df1_fields"
   ]
  },
  {
   "cell_type": "code",
   "execution_count": 57,
   "id": "5123a591-46b9-4889-bad0-b0e6ccbc07fd",
   "metadata": {
    "scrolled": true
   },
   "outputs": [
    {
     "ename": "AttributeError",
     "evalue": "'NoneType' object has no attribute 'keys'",
     "output_type": "error",
     "traceback": [
      "\u001b[0;31m---------------------------------------------------------------------------\u001b[0m",
      "\u001b[0;31mAttributeError\u001b[0m                            Traceback (most recent call last)",
      "Cell \u001b[0;32mIn[57], line 1\u001b[0m\n\u001b[0;32m----> 1\u001b[0m df1_assigns \u001b[38;5;241m=\u001b[39m \u001b[43mpd\u001b[49m\u001b[38;5;241;43m.\u001b[39;49m\u001b[43mDataFrame\u001b[49m\u001b[38;5;241;43m.\u001b[39;49m\u001b[43mfrom_dict\u001b[49m\u001b[43m(\u001b[49m\u001b[43massignee\u001b[49m\u001b[43m)\u001b[49m\n",
      "File \u001b[0;32m/usr/local/lib/python3.10/dist-packages/pandas/core/frame.py:1917\u001b[0m, in \u001b[0;36mDataFrame.from_dict\u001b[0;34m(cls, data, orient, dtype, columns)\u001b[0m\n\u001b[1;32m   1911\u001b[0m     \u001b[38;5;28;01mraise\u001b[39;00m \u001b[38;5;167;01mValueError\u001b[39;00m(\n\u001b[1;32m   1912\u001b[0m         \u001b[38;5;124mf\u001b[39m\u001b[38;5;124m\"\u001b[39m\u001b[38;5;124mExpected \u001b[39m\u001b[38;5;124m'\u001b[39m\u001b[38;5;124mindex\u001b[39m\u001b[38;5;124m'\u001b[39m\u001b[38;5;124m, \u001b[39m\u001b[38;5;124m'\u001b[39m\u001b[38;5;124mcolumns\u001b[39m\u001b[38;5;124m'\u001b[39m\u001b[38;5;124m or \u001b[39m\u001b[38;5;124m'\u001b[39m\u001b[38;5;124mtight\u001b[39m\u001b[38;5;124m'\u001b[39m\u001b[38;5;124m for orient parameter. \u001b[39m\u001b[38;5;124m\"\u001b[39m\n\u001b[1;32m   1913\u001b[0m         \u001b[38;5;124mf\u001b[39m\u001b[38;5;124m\"\u001b[39m\u001b[38;5;124mGot \u001b[39m\u001b[38;5;124m'\u001b[39m\u001b[38;5;132;01m{\u001b[39;00morient\u001b[38;5;132;01m}\u001b[39;00m\u001b[38;5;124m'\u001b[39m\u001b[38;5;124m instead\u001b[39m\u001b[38;5;124m\"\u001b[39m\n\u001b[1;32m   1914\u001b[0m     )\n\u001b[1;32m   1916\u001b[0m \u001b[38;5;28;01mif\u001b[39;00m orient \u001b[38;5;241m!=\u001b[39m \u001b[38;5;124m\"\u001b[39m\u001b[38;5;124mtight\u001b[39m\u001b[38;5;124m\"\u001b[39m:\n\u001b[0;32m-> 1917\u001b[0m     \u001b[38;5;28;01mreturn\u001b[39;00m \u001b[38;5;28;43mcls\u001b[39;49m\u001b[43m(\u001b[49m\u001b[43mdata\u001b[49m\u001b[43m,\u001b[49m\u001b[43m \u001b[49m\u001b[43mindex\u001b[49m\u001b[38;5;241;43m=\u001b[39;49m\u001b[43mindex\u001b[49m\u001b[43m,\u001b[49m\u001b[43m \u001b[49m\u001b[43mcolumns\u001b[49m\u001b[38;5;241;43m=\u001b[39;49m\u001b[43mcolumns\u001b[49m\u001b[43m,\u001b[49m\u001b[43m \u001b[49m\u001b[43mdtype\u001b[49m\u001b[38;5;241;43m=\u001b[39;49m\u001b[43mdtype\u001b[49m\u001b[43m)\u001b[49m\n\u001b[1;32m   1918\u001b[0m \u001b[38;5;28;01melse\u001b[39;00m:\n\u001b[1;32m   1919\u001b[0m     realdata \u001b[38;5;241m=\u001b[39m data[\u001b[38;5;124m\"\u001b[39m\u001b[38;5;124mdata\u001b[39m\u001b[38;5;124m\"\u001b[39m]\n",
      "File \u001b[0;32m/usr/local/lib/python3.10/dist-packages/pandas/core/frame.py:851\u001b[0m, in \u001b[0;36mDataFrame.__init__\u001b[0;34m(self, data, index, columns, dtype, copy)\u001b[0m\n\u001b[1;32m    849\u001b[0m     \u001b[38;5;28;01mif\u001b[39;00m columns \u001b[38;5;129;01mis\u001b[39;00m \u001b[38;5;129;01mnot\u001b[39;00m \u001b[38;5;28;01mNone\u001b[39;00m:\n\u001b[1;32m    850\u001b[0m         columns \u001b[38;5;241m=\u001b[39m ensure_index(columns)\n\u001b[0;32m--> 851\u001b[0m     arrays, columns, index \u001b[38;5;241m=\u001b[39m \u001b[43mnested_data_to_arrays\u001b[49m\u001b[43m(\u001b[49m\n\u001b[1;32m    852\u001b[0m \u001b[43m        \u001b[49m\u001b[38;5;66;43;03m# error: Argument 3 to \"nested_data_to_arrays\" has incompatible\u001b[39;49;00m\n\u001b[1;32m    853\u001b[0m \u001b[43m        \u001b[49m\u001b[38;5;66;43;03m# type \"Optional[Collection[Any]]\"; expected \"Optional[Index]\"\u001b[39;49;00m\n\u001b[1;32m    854\u001b[0m \u001b[43m        \u001b[49m\u001b[43mdata\u001b[49m\u001b[43m,\u001b[49m\n\u001b[1;32m    855\u001b[0m \u001b[43m        \u001b[49m\u001b[43mcolumns\u001b[49m\u001b[43m,\u001b[49m\n\u001b[1;32m    856\u001b[0m \u001b[43m        \u001b[49m\u001b[43mindex\u001b[49m\u001b[43m,\u001b[49m\u001b[43m  \u001b[49m\u001b[38;5;66;43;03m# type: ignore[arg-type]\u001b[39;49;00m\n\u001b[1;32m    857\u001b[0m \u001b[43m        \u001b[49m\u001b[43mdtype\u001b[49m\u001b[43m,\u001b[49m\n\u001b[1;32m    858\u001b[0m \u001b[43m    \u001b[49m\u001b[43m)\u001b[49m\n\u001b[1;32m    859\u001b[0m     mgr \u001b[38;5;241m=\u001b[39m arrays_to_mgr(\n\u001b[1;32m    860\u001b[0m         arrays,\n\u001b[1;32m    861\u001b[0m         columns,\n\u001b[0;32m   (...)\u001b[0m\n\u001b[1;32m    864\u001b[0m         typ\u001b[38;5;241m=\u001b[39mmanager,\n\u001b[1;32m    865\u001b[0m     )\n\u001b[1;32m    866\u001b[0m \u001b[38;5;28;01melse\u001b[39;00m:\n",
      "File \u001b[0;32m/usr/local/lib/python3.10/dist-packages/pandas/core/internals/construction.py:520\u001b[0m, in \u001b[0;36mnested_data_to_arrays\u001b[0;34m(data, columns, index, dtype)\u001b[0m\n\u001b[1;32m    517\u001b[0m \u001b[38;5;28;01mif\u001b[39;00m is_named_tuple(data[\u001b[38;5;241m0\u001b[39m]) \u001b[38;5;129;01mand\u001b[39;00m columns \u001b[38;5;129;01mis\u001b[39;00m \u001b[38;5;28;01mNone\u001b[39;00m:\n\u001b[1;32m    518\u001b[0m     columns \u001b[38;5;241m=\u001b[39m ensure_index(data[\u001b[38;5;241m0\u001b[39m]\u001b[38;5;241m.\u001b[39m_fields)\n\u001b[0;32m--> 520\u001b[0m arrays, columns \u001b[38;5;241m=\u001b[39m \u001b[43mto_arrays\u001b[49m\u001b[43m(\u001b[49m\u001b[43mdata\u001b[49m\u001b[43m,\u001b[49m\u001b[43m \u001b[49m\u001b[43mcolumns\u001b[49m\u001b[43m,\u001b[49m\u001b[43m \u001b[49m\u001b[43mdtype\u001b[49m\u001b[38;5;241;43m=\u001b[39;49m\u001b[43mdtype\u001b[49m\u001b[43m)\u001b[49m\n\u001b[1;32m    521\u001b[0m columns \u001b[38;5;241m=\u001b[39m ensure_index(columns)\n\u001b[1;32m    523\u001b[0m \u001b[38;5;28;01mif\u001b[39;00m index \u001b[38;5;129;01mis\u001b[39;00m \u001b[38;5;28;01mNone\u001b[39;00m:\n",
      "File \u001b[0;32m/usr/local/lib/python3.10/dist-packages/pandas/core/internals/construction.py:837\u001b[0m, in \u001b[0;36mto_arrays\u001b[0;34m(data, columns, dtype)\u001b[0m\n\u001b[1;32m    835\u001b[0m     arr \u001b[38;5;241m=\u001b[39m _list_to_arrays(data)\n\u001b[1;32m    836\u001b[0m \u001b[38;5;28;01melif\u001b[39;00m \u001b[38;5;28misinstance\u001b[39m(data[\u001b[38;5;241m0\u001b[39m], abc\u001b[38;5;241m.\u001b[39mMapping):\n\u001b[0;32m--> 837\u001b[0m     arr, columns \u001b[38;5;241m=\u001b[39m \u001b[43m_list_of_dict_to_arrays\u001b[49m\u001b[43m(\u001b[49m\u001b[43mdata\u001b[49m\u001b[43m,\u001b[49m\u001b[43m \u001b[49m\u001b[43mcolumns\u001b[49m\u001b[43m)\u001b[49m\n\u001b[1;32m    838\u001b[0m \u001b[38;5;28;01melif\u001b[39;00m \u001b[38;5;28misinstance\u001b[39m(data[\u001b[38;5;241m0\u001b[39m], ABCSeries):\n\u001b[1;32m    839\u001b[0m     arr, columns \u001b[38;5;241m=\u001b[39m _list_of_series_to_arrays(data, columns)\n",
      "File \u001b[0;32m/usr/local/lib/python3.10/dist-packages/pandas/core/internals/construction.py:917\u001b[0m, in \u001b[0;36m_list_of_dict_to_arrays\u001b[0;34m(data, columns)\u001b[0m\n\u001b[1;32m    915\u001b[0m     gen \u001b[38;5;241m=\u001b[39m (\u001b[38;5;28mlist\u001b[39m(x\u001b[38;5;241m.\u001b[39mkeys()) \u001b[38;5;28;01mfor\u001b[39;00m x \u001b[38;5;129;01min\u001b[39;00m data)\n\u001b[1;32m    916\u001b[0m     sort \u001b[38;5;241m=\u001b[39m \u001b[38;5;129;01mnot\u001b[39;00m \u001b[38;5;28many\u001b[39m(\u001b[38;5;28misinstance\u001b[39m(d, \u001b[38;5;28mdict\u001b[39m) \u001b[38;5;28;01mfor\u001b[39;00m d \u001b[38;5;129;01min\u001b[39;00m data)\n\u001b[0;32m--> 917\u001b[0m     pre_cols \u001b[38;5;241m=\u001b[39m \u001b[43mlib\u001b[49m\u001b[38;5;241;43m.\u001b[39;49m\u001b[43mfast_unique_multiple_list_gen\u001b[49m\u001b[43m(\u001b[49m\u001b[43mgen\u001b[49m\u001b[43m,\u001b[49m\u001b[43m \u001b[49m\u001b[43msort\u001b[49m\u001b[38;5;241;43m=\u001b[39;49m\u001b[43msort\u001b[49m\u001b[43m)\u001b[49m\n\u001b[1;32m    918\u001b[0m     columns \u001b[38;5;241m=\u001b[39m ensure_index(pre_cols)\n\u001b[1;32m    920\u001b[0m \u001b[38;5;66;03m# assure that they are of the base dict class and not of derived\u001b[39;00m\n\u001b[1;32m    921\u001b[0m \u001b[38;5;66;03m# classes\u001b[39;00m\n",
      "File \u001b[0;32mlib.pyx:367\u001b[0m, in \u001b[0;36mpandas._libs.lib.fast_unique_multiple_list_gen\u001b[0;34m()\u001b[0m\n",
      "File \u001b[0;32m/usr/local/lib/python3.10/dist-packages/pandas/core/internals/construction.py:915\u001b[0m, in \u001b[0;36m<genexpr>\u001b[0;34m(.0)\u001b[0m\n\u001b[1;32m    895\u001b[0m \u001b[38;5;250m\u001b[39m\u001b[38;5;124;03m\"\"\"\u001b[39;00m\n\u001b[1;32m    896\u001b[0m \u001b[38;5;124;03mConvert list of dicts to numpy arrays\u001b[39;00m\n\u001b[1;32m    897\u001b[0m \n\u001b[0;32m   (...)\u001b[0m\n\u001b[1;32m    912\u001b[0m \u001b[38;5;124;03mcolumns : Index\u001b[39;00m\n\u001b[1;32m    913\u001b[0m \u001b[38;5;124;03m\"\"\"\u001b[39;00m\n\u001b[1;32m    914\u001b[0m \u001b[38;5;28;01mif\u001b[39;00m columns \u001b[38;5;129;01mis\u001b[39;00m \u001b[38;5;28;01mNone\u001b[39;00m:\n\u001b[0;32m--> 915\u001b[0m     gen \u001b[38;5;241m=\u001b[39m (\u001b[38;5;28mlist\u001b[39m(\u001b[43mx\u001b[49m\u001b[38;5;241;43m.\u001b[39;49m\u001b[43mkeys\u001b[49m()) \u001b[38;5;28;01mfor\u001b[39;00m x \u001b[38;5;129;01min\u001b[39;00m data)\n\u001b[1;32m    916\u001b[0m     sort \u001b[38;5;241m=\u001b[39m \u001b[38;5;129;01mnot\u001b[39;00m \u001b[38;5;28many\u001b[39m(\u001b[38;5;28misinstance\u001b[39m(d, \u001b[38;5;28mdict\u001b[39m) \u001b[38;5;28;01mfor\u001b[39;00m d \u001b[38;5;129;01min\u001b[39;00m data)\n\u001b[1;32m    917\u001b[0m     pre_cols \u001b[38;5;241m=\u001b[39m lib\u001b[38;5;241m.\u001b[39mfast_unique_multiple_list_gen(gen, sort\u001b[38;5;241m=\u001b[39msort)\n",
      "\u001b[0;31mAttributeError\u001b[0m: 'NoneType' object has no attribute 'keys'"
     ]
    }
   ],
   "source": [
    "df1_assigns = pd.DataFrame.from_dict(assignee)"
   ]
  },
  {
   "cell_type": "code",
   "execution_count": 55,
   "id": "2f44114b-3f0f-45be-9a7f-7109011938ce",
   "metadata": {},
   "outputs": [
    {
     "data": {
      "text/plain": [
       "[{'self': 'https://ciandtjira.atlassian.net/rest/api/3/user?accountId=557058%3A631da733-ee73-4d83-be7f-c1a2520255b2',\n",
       "  'accountId': '557058:631da733-ee73-4d83-be7f-c1a2520255b2',\n",
       "  'emailAddress': 'diegoms@ciandt.com',\n",
       "  'avatarUrls': {'48x48': 'https://avatar-management--avatars.us-west-2.prod.public.atl-paas.net/557058:631da733-ee73-4d83-be7f-c1a2520255b2/5d39fda0-481b-4837-bc57-c47decae0397/48',\n",
       "   '24x24': 'https://avatar-management--avatars.us-west-2.prod.public.atl-paas.net/557058:631da733-ee73-4d83-be7f-c1a2520255b2/5d39fda0-481b-4837-bc57-c47decae0397/24',\n",
       "   '16x16': 'https://avatar-management--avatars.us-west-2.prod.public.atl-paas.net/557058:631da733-ee73-4d83-be7f-c1a2520255b2/5d39fda0-481b-4837-bc57-c47decae0397/16',\n",
       "   '32x32': 'https://avatar-management--avatars.us-west-2.prod.public.atl-paas.net/557058:631da733-ee73-4d83-be7f-c1a2520255b2/5d39fda0-481b-4837-bc57-c47decae0397/32'},\n",
       "  'displayName': 'Diego Martins da Silva',\n",
       "  'active': True,\n",
       "  'timeZone': 'America/Sao_Paulo',\n",
       "  'accountType': 'atlassian'},\n",
       " None]"
      ]
     },
     "execution_count": 55,
     "metadata": {},
     "output_type": "execute_result"
    }
   ],
   "source": [
    "assignee"
   ]
  },
  {
   "cell_type": "code",
   "execution_count": 37,
   "id": "83c04919-f84a-48d2-85ba-e5d703727f7c",
   "metadata": {
    "scrolled": true
   },
   "outputs": [
    {
     "data": {
      "text/plain": [
       "list"
      ]
     },
     "execution_count": 37,
     "metadata": {},
     "output_type": "execute_result"
    }
   ],
   "source": [
    "type(issues)"
   ]
  },
  {
   "cell_type": "code",
   "execution_count": 8,
   "id": "b854a8ed-ff8f-441e-8233-d4b8f7b66f69",
   "metadata": {},
   "outputs": [],
   "source": [
    "issues.extend(df['issues'])"
   ]
  },
  {
   "cell_type": "code",
   "execution_count": 19,
   "id": "aaf87ffa-8b33-4df0-8b65-7ee535b478f7",
   "metadata": {},
   "outputs": [],
   "source": [
    "df = pd.json_normalize(issues, sep='.')\n"
   ]
  },
  {
   "cell_type": "code",
   "execution_count": 20,
   "id": "2fa32e34-67e5-49de-bb79-db25c8c6f56f",
   "metadata": {},
   "outputs": [
    {
     "data": {
      "text/plain": [
       "0   NaN\n",
       "1   NaN\n",
       "Name: fields.assignee, dtype: float64"
      ]
     },
     "execution_count": 20,
     "metadata": {},
     "output_type": "execute_result"
    }
   ],
   "source": [
    "df['fields.assignee']"
   ]
  },
  {
   "cell_type": "code",
   "execution_count": 95,
   "id": "7ba82622-3e4b-47d2-b010-d653763f7757",
   "metadata": {},
   "outputs": [
    {
     "ename": "ValueError",
     "evalue": "The truth value of a DataFrame is ambiguous. Use a.empty, a.bool(), a.item(), a.any() or a.all().",
     "output_type": "error",
     "traceback": [
      "\u001b[0;31m---------------------------------------------------------------------------\u001b[0m",
      "\u001b[0;31mValueError\u001b[0m                                Traceback (most recent call last)",
      "\u001b[0;32m/tmp/ipykernel_76394/443018869.py\u001b[0m in \u001b[0;36m?\u001b[0;34m()\u001b[0m\n\u001b[1;32m      1\u001b[0m \u001b[0;32mif\u001b[0m \u001b[0m__name__\u001b[0m \u001b[0;34m==\u001b[0m \u001b[0;34m\"__main__\"\u001b[0m\u001b[0;34m:\u001b[0m\u001b[0;34m\u001b[0m\u001b[0;34m\u001b[0m\u001b[0m\n\u001b[0;32m----> 2\u001b[0;31m     \u001b[0missues\u001b[0m \u001b[0;34m=\u001b[0m \u001b[0mfetch_all_issues\u001b[0m\u001b[0;34m(\u001b[0m\u001b[0;34m)\u001b[0m\u001b[0;34m\u001b[0m\u001b[0;34m\u001b[0m\u001b[0m\n\u001b[0m\u001b[1;32m      3\u001b[0m     \u001b[0;32mif\u001b[0m \u001b[0missues\u001b[0m\u001b[0;34m:\u001b[0m\u001b[0;34m\u001b[0m\u001b[0;34m\u001b[0m\u001b[0m\n\u001b[1;32m      4\u001b[0m         \u001b[0mdf\u001b[0m \u001b[0;34m=\u001b[0m \u001b[0mpd\u001b[0m\u001b[0;34m.\u001b[0m\u001b[0mjson_normalize\u001b[0m\u001b[0;34m(\u001b[0m\u001b[0missues\u001b[0m\u001b[0;34m,\u001b[0m \u001b[0msep\u001b[0m\u001b[0;34m=\u001b[0m\u001b[0;34m'.'\u001b[0m\u001b[0;34m)\u001b[0m\u001b[0;34m\u001b[0m\u001b[0;34m\u001b[0m\u001b[0m\n\u001b[1;32m      5\u001b[0m         \u001b[0;32mtry\u001b[0m\u001b[0;34m:\u001b[0m\u001b[0;34m\u001b[0m\u001b[0;34m\u001b[0m\u001b[0m\n",
      "\u001b[0;32m/tmp/ipykernel_76394/2093985409.py\u001b[0m in \u001b[0;36m?\u001b[0;34m()\u001b[0m\n\u001b[1;32m     30\u001b[0m     \u001b[0missues\u001b[0m \u001b[0;34m=\u001b[0m \u001b[0;34m[\u001b[0m\u001b[0;34m]\u001b[0m\u001b[0;34m\u001b[0m\u001b[0;34m\u001b[0m\u001b[0m\n\u001b[1;32m     31\u001b[0m \u001b[0;34m\u001b[0m\u001b[0m\n\u001b[1;32m     32\u001b[0m     \u001b[0;32mwhile\u001b[0m \u001b[0;32mTrue\u001b[0m\u001b[0;34m:\u001b[0m\u001b[0;34m\u001b[0m\u001b[0;34m\u001b[0m\u001b[0m\n\u001b[1;32m     33\u001b[0m         \u001b[0mdata\u001b[0m \u001b[0;34m=\u001b[0m \u001b[0mpd\u001b[0m\u001b[0;34m.\u001b[0m\u001b[0mread_json\u001b[0m\u001b[0;34m(\u001b[0m\u001b[0;34m'dados.json'\u001b[0m\u001b[0;34m)\u001b[0m\u001b[0;34m\u001b[0m\u001b[0;34m\u001b[0m\u001b[0m\n\u001b[0;32m---> 34\u001b[0;31m         \u001b[0;32mif\u001b[0m \u001b[0;32mnot\u001b[0m \u001b[0mdata\u001b[0m\u001b[0;34m:\u001b[0m\u001b[0;34m\u001b[0m\u001b[0;34m\u001b[0m\u001b[0m\n\u001b[0m\u001b[1;32m     35\u001b[0m             \u001b[0;32mbreak\u001b[0m\u001b[0;34m\u001b[0m\u001b[0;34m\u001b[0m\u001b[0m\n\u001b[1;32m     36\u001b[0m         \u001b[0missues\u001b[0m\u001b[0;34m.\u001b[0m\u001b[0mextend\u001b[0m\u001b[0;34m(\u001b[0m\u001b[0mdata\u001b[0m\u001b[0;34m[\u001b[0m\u001b[0;34m'issues'\u001b[0m\u001b[0;34m]\u001b[0m\u001b[0;34m)\u001b[0m\u001b[0;34m\u001b[0m\u001b[0;34m\u001b[0m\u001b[0m\n\u001b[1;32m     37\u001b[0m         \u001b[0mstart_at\u001b[0m \u001b[0;34m+=\u001b[0m \u001b[0mmax_results\u001b[0m\u001b[0;34m\u001b[0m\u001b[0;34m\u001b[0m\u001b[0m\n",
      "\u001b[0;32m/usr/local/lib/python3.10/dist-packages/pandas/core/generic.py\u001b[0m in \u001b[0;36m?\u001b[0;34m(self)\u001b[0m\n\u001b[1;32m   1575\u001b[0m     \u001b[0;34m@\u001b[0m\u001b[0mfinal\u001b[0m\u001b[0;34m\u001b[0m\u001b[0;34m\u001b[0m\u001b[0m\n\u001b[1;32m   1576\u001b[0m     \u001b[0;32mdef\u001b[0m \u001b[0m__nonzero__\u001b[0m\u001b[0;34m(\u001b[0m\u001b[0mself\u001b[0m\u001b[0;34m)\u001b[0m \u001b[0;34m->\u001b[0m \u001b[0mNoReturn\u001b[0m\u001b[0;34m:\u001b[0m\u001b[0;34m\u001b[0m\u001b[0;34m\u001b[0m\u001b[0m\n\u001b[0;32m-> 1577\u001b[0;31m         raise ValueError(\n\u001b[0m\u001b[1;32m   1578\u001b[0m             \u001b[0;34mf\"The truth value of a {type(self).__name__} is ambiguous. \"\u001b[0m\u001b[0;34m\u001b[0m\u001b[0;34m\u001b[0m\u001b[0m\n\u001b[1;32m   1579\u001b[0m             \u001b[0;34m\"Use a.empty, a.bool(), a.item(), a.any() or a.all().\"\u001b[0m\u001b[0;34m\u001b[0m\u001b[0;34m\u001b[0m\u001b[0m\n\u001b[1;32m   1580\u001b[0m         )\n",
      "\u001b[0;31mValueError\u001b[0m: The truth value of a DataFrame is ambiguous. Use a.empty, a.bool(), a.item(), a.any() or a.all()."
     ]
    }
   ],
   "source": [
    "\n",
    "if __name__ == \"__main__\":\n",
    "    issues = fetch_all_issues()\n",
    "    if issues:\n",
    "        df = pd.json_normalize(issues, sep='.')\n",
    "        try:\n",
    "            # Extraindo e tratando a coluna 'fields.assignee.displayName'\n",
    "            df['fields.assignee.displayName'] = df['fields.assignee'].apply(\n",
    "                lambda x: x['displayName'] if isinstance(x, dict) and 'displayName' in x else None\n",
    "            )\n",
    "\n",
    "            # Agora você pode incluir diretamente a nova coluna ao invés de 'fields.assignee'\n",
    "            df = df[['id', 'key', 'fields.created', 'fields.summary', 'fields.status.name',\n",
    "                      'fields.customfield_11094', 'fields.creator.displayName',\n",
    "                      'fields.resolutiondate',\n",
    "                      'fields.assignee.displayName',  # Use a nova coluna aqui\n",
    "                      'fields.customfield_11081.value']]\n",
    "\n",
    "            logging.info(\"Data fetched successfully.\")\n",
    "            print(df.head())\n",
    "\n",
    "            # Salvar como CSV\n",
    "            df.to_csv('JSM.csv', index=False)\n",
    "\n",
    "            # Salvar no Oracle\n",
    "            # save_to_oracle(df)\n",
    "        except KeyError as e:\n",
    "            logging.error(f\"KeyError: {e}\")\n",
    "    else:\n",
    "        logging.warning(\"No issues fetched.\")\n"
   ]
  },
  {
   "cell_type": "code",
   "execution_count": null,
   "id": "f6582ced-1436-4cff-be26-e857b0f7ce61",
   "metadata": {},
   "outputs": [],
   "source": []
  },
  {
   "cell_type": "code",
   "execution_count": null,
   "id": "032cc8ac-3bf4-461a-abad-23c75908665d",
   "metadata": {},
   "outputs": [],
   "source": []
  }
 ],
 "metadata": {
  "kernelspec": {
   "display_name": "Python 3 (ipykernel)",
   "language": "python",
   "name": "python3"
  },
  "language_info": {
   "codemirror_mode": {
    "name": "ipython",
    "version": 3
   },
   "file_extension": ".py",
   "mimetype": "text/x-python",
   "name": "python",
   "nbconvert_exporter": "python",
   "pygments_lexer": "ipython3",
   "version": "3.10.12"
  }
 },
 "nbformat": 4,
 "nbformat_minor": 5
}
